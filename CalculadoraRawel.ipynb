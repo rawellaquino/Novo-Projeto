{
  "nbformat": 4,
  "nbformat_minor": 0,
  "metadata": {
    "colab": {
      "provenance": []
    },
    "kernelspec": {
      "name": "python3",
      "display_name": "Python 3"
    },
    "language_info": {
      "name": "python"
    }
  },
  "cells": [
    {
      "cell_type": "code",
      "execution_count": null,
      "metadata": {
        "id": "RdUA5tqDK7-6"
      },
      "outputs": [],
      "source": [
        "#Calculadora Rawel\n",
        "\n",
        "numero1 = 0\n",
        "numero2 = 0\n",
        "resultado = 0\n",
        "operacao = ''"
      ]
    },
    {
      "cell_type": "code",
      "source": [
        "while True:\n",
        "  numero1 = int(input('Digite o numero 1:'))\n",
        "  operacao = input('Digite a operação:')\n",
        "  numero2 = int(input('Digite o numero 2:'))\n",
        "\n",
        "  if operacao == '+':\n",
        "    resultado = numero1 + numero2\n",
        "  elif operacao == '-':\n",
        "    resultado = numero1 - numero2\n",
        "  elif operacao == '/':\n",
        "    resultado = numero1 / numero2\n",
        "  elif operacao == '*':\n",
        "    resultado = numero1 * numero2\n",
        "  else:\n",
        "    resultado = 'Operação invalida'\n",
        "\n",
        "  print('{} {} {} = {}'.format(numero1, operacao, numero2, resultado))"
      ],
      "metadata": {
        "colab": {
          "base_uri": "https://localhost:8080/"
        },
        "id": "Q1SceQnjPpzJ",
        "outputId": "40d80846-c652-4c31-f1fb-19d7cde28fef"
      },
      "execution_count": null,
      "outputs": [
        {
          "output_type": "stream",
          "name": "stdout",
          "text": [
            "Digite o numero 1:9\n",
            "Digite a operação:+\n",
            "Digite o numero 2:9\n",
            "9 + 9 = 18\n",
            "Digite o numero 1:20\n",
            "Digite a operação:/\n",
            "Digite o numero 2:2\n",
            "20 / 2 = 10.0\n",
            "Digite o numero 1:10\n",
            "Digite a operação:*\n",
            "Digite o numero 2:2\n",
            "10 * 2 = 20\n",
            "Digite o numero 1:20\n",
            "Digite a operação:-\n",
            "Digite o numero 2:10\n",
            "20 - 10 = 10\n"
          ]
        }
      ]
    },
    {
      "cell_type": "code",
      "source": [],
      "metadata": {
        "id": "PdzCncBqdLoX"
      },
      "execution_count": null,
      "outputs": []
    }
  ]
}